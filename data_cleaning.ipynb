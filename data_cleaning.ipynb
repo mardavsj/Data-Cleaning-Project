{
 "cells": [
  {
   "cell_type": "code",
   "execution_count": 1,
   "metadata": {},
   "outputs": [],
   "source": [
    "import pandas as np\n",
    "import zipfile\n",
    "import kaggle "
   ]
  },
  {
   "cell_type": "code",
   "execution_count": 2,
   "metadata": {},
   "outputs": [
    {
     "name": "stdout",
     "output_type": "stream",
     "text": [
      "Downloading uncleaned-laptop-price-dataset.zip to C:\\Users\\MARDAV JADAUN\\OneDrive\\Desktop\\Python\\Data-Cleaning-Project\n",
      "\n"
     ]
    },
    {
     "name": "stderr",
     "output_type": "stream",
     "text": [
      "\n",
      "  0%|          | 0.00/23.5k [00:00<?, ?B/s]\n",
      "100%|██████████| 23.5k/23.5k [00:00<00:00, 56.8kB/s]\n",
      "100%|██████████| 23.5k/23.5k [00:00<00:00, 55.8kB/s]\n"
     ]
    }
   ],
   "source": [
    "!kaggle datasets download -d ehtishamsadiq/uncleaned-laptop-price-dataset"
   ]
  },
  {
   "cell_type": "code",
   "execution_count": 3,
   "metadata": {},
   "outputs": [],
   "source": [
    "zipfile_name = \"uncleaned-laptop-price-dataset.zip\"\n",
    "with zipfile.ZipFile(zipfile_name, 'r') as file:\n",
    "    file.extractall()"
   ]
  },
  {
   "cell_type": "code",
   "execution_count": null,
   "metadata": {},
   "outputs": [],
   "source": []
  }
 ],
 "metadata": {
  "kernelspec": {
   "display_name": "Python 3",
   "language": "python",
   "name": "python3"
  },
  "language_info": {
   "codemirror_mode": {
    "name": "ipython",
    "version": 3
   },
   "file_extension": ".py",
   "mimetype": "text/x-python",
   "name": "python",
   "nbconvert_exporter": "python",
   "pygments_lexer": "ipython3",
   "version": "3.12.1"
  }
 },
 "nbformat": 4,
 "nbformat_minor": 2
}
