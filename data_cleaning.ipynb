{
 "cells": [
  {
   "cell_type": "markdown",
   "metadata": {},
   "source": [
    "### Importing Libraries :"
   ]
  },
  {
   "cell_type": "code",
   "execution_count": 2,
   "metadata": {},
   "outputs": [],
   "source": [
    "import pandas as pd\n",
    "import zipfile\n",
    "import kaggle \n",
    "import seaborn as sns \n",
    "import matplotlib.pyplot as plt "
   ]
  },
  {
   "cell_type": "markdown",
   "metadata": {},
   "source": [
    "### Downloading dataset from kaggle using the Kaggle API :"
   ]
  },
  {
   "cell_type": "code",
   "execution_count": 3,
   "metadata": {},
   "outputs": [],
   "source": [
    "!kaggle datasets download -d bilalwaseer/air-index-of-worlds-all-cities-2017-to-2022"
   ]
  },
  {
   "cell_type": "markdown",
   "metadata": {},
   "source": [
    "### Extracting the file from the already downloaded zip file :"
   ]
  },
  {
   "cell_type": "code",
   "execution_count": 4,
   "metadata": {},
   "outputs": [],
   "source": [
    "zipfile_name = \"air-index-of-worlds-all-cities.zip\"\n",
    "with zipfile.ZipFile(zipfile_name, 'r') as file:\n",
    "    file.extractall()"
   ]
  },
  {
   "cell_type": "markdown",
   "metadata": {},
   "source": [
    "### Reading the csv file as a pandas DataFrame :"
   ]
  },
  {
   "cell_type": "code",
   "execution_count": 5,
   "metadata": {},
   "outputs": [
    {
     "data": {
      "text/html": [
       "<div>\n",
       "<style scoped>\n",
       "    .dataframe tbody tr th:only-of-type {\n",
       "        vertical-align: middle;\n",
       "    }\n",
       "\n",
       "    .dataframe tbody tr th {\n",
       "        vertical-align: top;\n",
       "    }\n",
       "\n",
       "    .dataframe thead th {\n",
       "        text-align: right;\n",
       "    }\n",
       "</style>\n",
       "<table border=\"1\" class=\"dataframe\">\n",
       "  <thead>\n",
       "    <tr style=\"text-align: right;\">\n",
       "      <th></th>\n",
       "      <th>Rank</th>\n",
       "      <th>Countries</th>\n",
       "      <th>City</th>\n",
       "      <th>2022</th>\n",
       "      <th>JAN</th>\n",
       "      <th>FEB</th>\n",
       "      <th>MAR</th>\n",
       "      <th>APR</th>\n",
       "      <th>MAY</th>\n",
       "      <th>JUN</th>\n",
       "      <th>...</th>\n",
       "      <th>AUG</th>\n",
       "      <th>SEP</th>\n",
       "      <th>OCT</th>\n",
       "      <th>NOV</th>\n",
       "      <th>DEC</th>\n",
       "      <th>2021</th>\n",
       "      <th>2020</th>\n",
       "      <th>2019</th>\n",
       "      <th>2018</th>\n",
       "      <th>2017</th>\n",
       "    </tr>\n",
       "  </thead>\n",
       "  <tbody>\n",
       "    <tr>\n",
       "      <th>0</th>\n",
       "      <td>1</td>\n",
       "      <td>Pakistan</td>\n",
       "      <td>Lahore</td>\n",
       "      <td>97.4</td>\n",
       "      <td>133.0</td>\n",
       "      <td>102.5</td>\n",
       "      <td>85.6</td>\n",
       "      <td>69.3</td>\n",
       "      <td>60.9</td>\n",
       "      <td>52.1</td>\n",
       "      <td>...</td>\n",
       "      <td>46.2</td>\n",
       "      <td>64.2</td>\n",
       "      <td>123.2</td>\n",
       "      <td>190.5</td>\n",
       "      <td>192.9</td>\n",
       "      <td>86.5</td>\n",
       "      <td>79.2</td>\n",
       "      <td>89.5</td>\n",
       "      <td>114.9</td>\n",
       "      <td>133.2</td>\n",
       "    </tr>\n",
       "    <tr>\n",
       "      <th>1</th>\n",
       "      <td>2</td>\n",
       "      <td>China</td>\n",
       "      <td>Hotan</td>\n",
       "      <td>94.3</td>\n",
       "      <td>61.7</td>\n",
       "      <td>91.6</td>\n",
       "      <td>132.7</td>\n",
       "      <td>106.2</td>\n",
       "      <td>120.5</td>\n",
       "      <td>69.5</td>\n",
       "      <td>...</td>\n",
       "      <td>75.0</td>\n",
       "      <td>65.1</td>\n",
       "      <td>75.0</td>\n",
       "      <td>50.3</td>\n",
       "      <td>120.0</td>\n",
       "      <td>101.5</td>\n",
       "      <td>110.2</td>\n",
       "      <td>110.1</td>\n",
       "      <td>116.0</td>\n",
       "      <td>91.9</td>\n",
       "    </tr>\n",
       "    <tr>\n",
       "      <th>2</th>\n",
       "      <td>3</td>\n",
       "      <td>India</td>\n",
       "      <td>Bhiwadi</td>\n",
       "      <td>92.7</td>\n",
       "      <td>110.6</td>\n",
       "      <td>98.0</td>\n",
       "      <td>116.2</td>\n",
       "      <td>149.5</td>\n",
       "      <td>123.8</td>\n",
       "      <td>102.8</td>\n",
       "      <td>...</td>\n",
       "      <td>36.5</td>\n",
       "      <td>59.9</td>\n",
       "      <td>85.4</td>\n",
       "      <td>111.4</td>\n",
       "      <td>86.9</td>\n",
       "      <td>106.2</td>\n",
       "      <td>95.5</td>\n",
       "      <td>83.4</td>\n",
       "      <td>125.4</td>\n",
       "      <td>NaN</td>\n",
       "    </tr>\n",
       "    <tr>\n",
       "      <th>3</th>\n",
       "      <td>4</td>\n",
       "      <td>India</td>\n",
       "      <td>Delhi (NCT)</td>\n",
       "      <td>92.6</td>\n",
       "      <td>141.0</td>\n",
       "      <td>100.9</td>\n",
       "      <td>91.0</td>\n",
       "      <td>98.0</td>\n",
       "      <td>73.2</td>\n",
       "      <td>56.2</td>\n",
       "      <td>...</td>\n",
       "      <td>31.1</td>\n",
       "      <td>38.3</td>\n",
       "      <td>99.7</td>\n",
       "      <td>176.8</td>\n",
       "      <td>171.9</td>\n",
       "      <td>96.4</td>\n",
       "      <td>84.1</td>\n",
       "      <td>98.6</td>\n",
       "      <td>113.5</td>\n",
       "      <td>108.2</td>\n",
       "    </tr>\n",
       "    <tr>\n",
       "      <th>4</th>\n",
       "      <td>5</td>\n",
       "      <td>Pakistan</td>\n",
       "      <td>Peshawar</td>\n",
       "      <td>91.8</td>\n",
       "      <td>110.2</td>\n",
       "      <td>103.5</td>\n",
       "      <td>78.3</td>\n",
       "      <td>68.5</td>\n",
       "      <td>53.5</td>\n",
       "      <td>56.3</td>\n",
       "      <td>...</td>\n",
       "      <td>57.8</td>\n",
       "      <td>79.0</td>\n",
       "      <td>100.0</td>\n",
       "      <td>132.0</td>\n",
       "      <td>212.1</td>\n",
       "      <td>89.6</td>\n",
       "      <td>NaN</td>\n",
       "      <td>63.9</td>\n",
       "      <td>NaN</td>\n",
       "      <td>NaN</td>\n",
       "    </tr>\n",
       "  </tbody>\n",
       "</table>\n",
       "<p>5 rows × 21 columns</p>\n",
       "</div>"
      ],
      "text/plain": [
       "   Rank Countries         City  2022    JAN    FEB    MAR    APR    MAY  \\\n",
       "0     1  Pakistan       Lahore  97.4  133.0  102.5   85.6   69.3   60.9   \n",
       "1     2     China        Hotan  94.3   61.7   91.6  132.7  106.2  120.5   \n",
       "2     3     India      Bhiwadi  92.7  110.6   98.0  116.2  149.5  123.8   \n",
       "3     4     India  Delhi (NCT)  92.6  141.0  100.9   91.0   98.0   73.2   \n",
       "4     5  Pakistan     Peshawar  91.8  110.2  103.5   78.3   68.5   53.5   \n",
       "\n",
       "     JUN  ...   AUG   SEP    OCT    NOV    DEC   2021   2020   2019   2018  \\\n",
       "0   52.1  ...  46.2  64.2  123.2  190.5  192.9   86.5   79.2   89.5  114.9   \n",
       "1   69.5  ...  75.0  65.1   75.0   50.3  120.0  101.5  110.2  110.1  116.0   \n",
       "2  102.8  ...  36.5  59.9   85.4  111.4   86.9  106.2   95.5   83.4  125.4   \n",
       "3   56.2  ...  31.1  38.3   99.7  176.8  171.9   96.4   84.1   98.6  113.5   \n",
       "4   56.3  ...  57.8  79.0  100.0  132.0  212.1   89.6    NaN   63.9    NaN   \n",
       "\n",
       "    2017  \n",
       "0  133.2  \n",
       "1   91.9  \n",
       "2    NaN  \n",
       "3  108.2  \n",
       "4    NaN  \n",
       "\n",
       "[5 rows x 21 columns]"
      ]
     },
     "execution_count": 5,
     "metadata": {},
     "output_type": "execute_result"
    }
   ],
   "source": [
    "dataset = pd.read_csv(r\"C:\\Users\\MARDAV JADAUN\\OneDrive\\Desktop\\Python\\Data-Cleaning-Project\\air_index.csv\")\n",
    "dataset.head(5)"
   ]
  },
  {
   "cell_type": "markdown",
   "metadata": {},
   "source": [
    "### Checking the no. of rows & no. of columns :"
   ]
  },
  {
   "cell_type": "code",
   "execution_count": 6,
   "metadata": {},
   "outputs": [
    {
     "data": {
      "text/plain": [
       "(7323, 21)"
      ]
     },
     "execution_count": 6,
     "metadata": {},
     "output_type": "execute_result"
    }
   ],
   "source": [
    "dataset.shape"
   ]
  },
  {
   "cell_type": "markdown",
   "metadata": {},
   "source": [
    "### Checking the no. of null values present in each column :"
   ]
  },
  {
   "cell_type": "code",
   "execution_count": 7,
   "metadata": {},
   "outputs": [
    {
     "data": {
      "text/plain": [
       "Rank            0\n",
       "Countries       1\n",
       "City            0\n",
       "2022            0\n",
       "JAN           224\n",
       "FEB           170\n",
       "MAR            83\n",
       "APR            45\n",
       "MAY            21\n",
       "JUN            26\n",
       "JUL            26\n",
       "AUG            33\n",
       "SEP            81\n",
       "OCT            98\n",
       "NOV           158\n",
       "DEC           267\n",
       "2021          861\n",
       "2020         3370\n",
       "2019         3576\n",
       "2018         4977\n",
       "2017         5154\n",
       "dtype: int64"
      ]
     },
     "execution_count": 7,
     "metadata": {},
     "output_type": "execute_result"
    }
   ],
   "source": [
    "dataset.isnull().sum()"
   ]
  },
  {
   "cell_type": "markdown",
   "metadata": {},
   "source": [
    "### Checking the no. of total null values present in the dataset :"
   ]
  },
  {
   "cell_type": "code",
   "execution_count": 8,
   "metadata": {},
   "outputs": [
    {
     "data": {
      "text/plain": [
       "19171"
      ]
     },
     "execution_count": 8,
     "metadata": {},
     "output_type": "execute_result"
    }
   ],
   "source": [
    "dataset.isnull().sum().sum()"
   ]
  },
  {
   "cell_type": "markdown",
   "metadata": {},
   "source": [
    "### Calculating the null value percentage for each column :"
   ]
  },
  {
   "cell_type": "code",
   "execution_count": 9,
   "metadata": {},
   "outputs": [
    {
     "data": {
      "text/plain": [
       "Rank          0.000000\n",
       "Countries     0.013656\n",
       "City          0.000000\n",
       "2022          0.000000\n",
       "JAN           3.058856\n",
       "FEB           2.321453\n",
       "MAR           1.133415\n",
       "APR           0.614502\n",
       "MAY           0.286768\n",
       "JUN           0.355046\n",
       "JUL           0.355046\n",
       "AUG           0.450635\n",
       "SEP           1.106104\n",
       "OCT           1.338249\n",
       "NOV           2.157586\n",
       "DEC           3.646047\n",
       "2021         11.757476\n",
       "2020         46.019391\n",
       "2019         48.832446\n",
       "2018         67.963949\n",
       "2017         70.380991\n",
       "dtype: float64"
      ]
     },
     "execution_count": 9,
     "metadata": {},
     "output_type": "execute_result"
    }
   ],
   "source": [
    "(dataset.isnull().sum()/dataset.shape[0])*100"
   ]
  },
  {
   "cell_type": "markdown",
   "metadata": {},
   "source": [
    "### Calculating the total null value percentage of entire dataset :"
   ]
  },
  {
   "cell_type": "code",
   "execution_count": 10,
   "metadata": {},
   "outputs": [
    {
     "data": {
      "text/plain": [
       "12.466267402768837"
      ]
     },
     "execution_count": 10,
     "metadata": {},
     "output_type": "execute_result"
    }
   ],
   "source": [
    "(dataset.isnull().sum().sum()/(dataset.shape[0]*dataset.shape[1]))*100"
   ]
  },
  {
   "cell_type": "markdown",
   "metadata": {},
   "source": [
    "### Checking the no. of total filled values(not null) present in the dataset :"
   ]
  },
  {
   "cell_type": "code",
   "execution_count": 11,
   "metadata": {},
   "outputs": [
    {
     "data": {
      "text/plain": [
       "134612"
      ]
     },
     "execution_count": 11,
     "metadata": {},
     "output_type": "execute_result"
    }
   ],
   "source": [
    "dataset.notnull().sum().sum()"
   ]
  },
  {
   "cell_type": "markdown",
   "metadata": {},
   "source": [
    "### Null value showcase in the form of graph : "
   ]
  },
  {
   "cell_type": "code",
   "execution_count": 12,
   "metadata": {},
   "outputs": [
    {
     "data": {
      "text/plain": [
       "<function matplotlib.pyplot.show(close=None, block=None)>"
      ]
     },
     "execution_count": 12,
     "metadata": {},
     "output_type": "execute_result"
    },
    {
     "data": {
      "image/png": "[encoded data removed]",
      "text/plain": [
       "<Figure size 640x480 with 2 Axes>"
      ]
     },
     "metadata": {},
     "output_type": "display_data"
    }
   ],
   "source": [
    "sns.heatmap(dataset.isnull())\n",
    "plt.show"
   ]
  },
  {
   "cell_type": "markdown",
   "metadata": {},
   "source": [
    "### Dropping null values through deleting columns"
   ]
  },
  {
   "cell_type": "code",
   "execution_count": 13,
   "metadata": {},
   "outputs": [],
   "source": [
    "dataset.drop(columns=[\"2017\",\"2018\"], inplace=True)"
   ]
  },
  {
   "cell_type": "code",
   "execution_count": 16,
   "metadata": {},
   "outputs": [
    {
     "data": {
      "text/plain": [
       "(7323, 19)"
      ]
     },
     "execution_count": 16,
     "metadata": {},
     "output_type": "execute_result"
    }
   ],
   "source": [
    "dataset.shape\n",
    "# 21 columns are now decreased to just 19!"
   ]
  },
  {
   "cell_type": "markdown",
   "metadata": {},
   "source": [
    "### Get a graphical view again"
   ]
  },
  {
   "cell_type": "code",
   "execution_count": 17,
   "metadata": {},
   "outputs": [
    {
     "data": {
      "text/plain": [
       "<function matplotlib.pyplot.show(close=None, block=None)>"
      ]
     },
     "execution_count": 17,
     "metadata": {},
     "output_type": "execute_result"
    },
    {
     "data": {
      "image/png": "[encoded data removed]",
      "text/plain": [
       "<Figure size 640x480 with 2 Axes>"
      ]
     },
     "metadata": {},
     "output_type": "display_data"
    }
   ],
   "source": [
    "sns.heatmap(dataset.isnull())\n",
    "plt.show"
   ]
  },
  {
   "cell_type": "markdown",
   "metadata": {},
   "source": [
    "### Check the amount of data loose "
   ]
  },
  {
   "cell_type": "code",
   "execution_count": 18,
   "metadata": {},
   "outputs": [
    {
     "data": {
      "text/plain": [
       "9.523809523809524"
      ]
     },
     "execution_count": 18,
     "metadata": {},
     "output_type": "execute_result"
    }
   ],
   "source": [
    "((21-19)/21)*100"
   ]
  },
  {
   "cell_type": "code",
   "execution_count": null,
   "metadata": {},
   "outputs": [],
   "source": []
  }
 ],
 "metadata": {
  "kernelspec": {
   "display_name": "Python 3",
   "language": "python",
   "name": "python3"
  },
  "language_info": {
   "codemirror_mode": {
    "name": "ipython",
    "version": 3
   },
   "file_extension": ".py",
   "mimetype": "text/x-python",
   "name": "python",
   "nbconvert_exporter": "python",
   "pygments_lexer": "ipython3",
   "version": "3.12.2"
  }
 },
 "nbformat": 4,
 "nbformat_minor": 2
}
